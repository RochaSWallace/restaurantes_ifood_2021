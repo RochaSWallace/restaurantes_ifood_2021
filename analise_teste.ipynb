{
 "cells": [
  {
   "cell_type": "code",
   "execution_count": 1,
   "metadata": {},
   "outputs": [],
   "source": [
    "# Projeto de Técnicas de Programação I\n",
    "import pandas as pd"
   ]
  },
  {
   "cell_type": "code",
   "execution_count": null,
   "metadata": {},
   "outputs": [],
   "source": [
    "# Leitura dos dados\n",
    "df = pd.read_csv('ifood-restaurants-february-2021.csv')\n",
    "df.head()"
   ]
  },
  {
   "cell_type": "code",
   "execution_count": null,
   "metadata": {},
   "outputs": [],
   "source": [
    "# Colunas do dataset\n",
    "df.columns"
   ]
  },
  {
   "cell_type": "code",
   "execution_count": null,
   "metadata": {},
   "outputs": [],
   "source": [
    "# Primeiras Linhas do DataFrame\n",
    "print(\"Cabeçalho: \")\n",
    "print(df.head())"
   ]
  },
  {
   "cell_type": "code",
   "execution_count": null,
   "metadata": {},
   "outputs": [],
   "source": [
    "# Informações sobre o DataFrame\n",
    "print(\"Informações: \")\n",
    "print(df.info())"
   ]
  },
  {
   "cell_type": "code",
   "execution_count": null,
   "metadata": {},
   "outputs": [],
   "source": [
    "# Estatísticas descritivas do DataFrame\n",
    "print(\"Descrição Estatística: \")\n",
    "print(df.describe())"
   ]
  },
  {
   "cell_type": "code",
   "execution_count": null,
   "metadata": {},
   "outputs": [],
   "source": [
    "# Transformar variáveis string em números:\n",
    "# Float para valores, int para minutos, int para kilômetros\n",
    "\n",
    "df.fillna(0, inplace=True)\n",
    "\n",
    "df['delivery_fee'] = df['delivery_fee'].replace('[\\\\$,]', '', regex=True).astype(float)\n",
    "df['minimumOrderValue'] = df['minimumOrderValue'].replace('[\\\\$,]', '', regex=True).astype(float)\n",
    "\n",
    "df['distance'] = df['distance'].astype(str) + ' Quilometros'\n",
    "df['delivery_time'] = df['delivery_time'].astype(str) + ' Minutos'\n",
    "\n",
    "\n",
    "\n",
    "\n",
    "print(df.head())"
   ]
  },
  {
   "cell_type": "code",
   "execution_count": null,
   "metadata": {},
   "outputs": [],
   "source": [
    "df['category'] = df['category'].astype('category')\n",
    "\n",
    "df['name'] = df['name'].str.lower()\n",
    "\n",
    "mean_rating_by_category = df.groupby('category')['rating'].mean()\n",
    "\n",
    "df.drop_duplicates(inplace=True)\n",
    "\n",
    "\n"
   ]
  },
  {
   "cell_type": "code",
   "execution_count": null,
   "metadata": {},
   "outputs": [],
   "source": [
    "exemplo = df['url'].iloc[0]\n",
    "\n",
    "print(\"Exemplo de URL:\", exemplo)\n",
    "print(\"Base da URL:\", exemplo.split(\"/delivery/\")[0])\n",
    "print(\"Localização:\", exemplo.split(\"/delivery/\")[1].split(\"/\")[0])\n",
    "print(\"Nome do restaurante:\", exemplo.split(\"/delivery/\")[1].split(\"/\")[1])\n",
    "print(\"Id do restaurante:\", exemplo.split(\"/delivery/\")[1].split(\"/\")[2])\n"
   ]
  },
  {
   "cell_type": "code",
   "execution_count": null,
   "metadata": {},
   "outputs": [],
   "source": [
    "import pandas as pd\n",
    "\n",
    "df['base_url'] = df['url'].apply(lambda x: x.split(\"/delivery/\")[0] if pd.notna(x) else None)\n",
    "df['location'] = df['url'].apply(lambda x: x.split(\"/delivery/\")[1].split(\"/\")[0] if pd.notna(x) else None)\n",
    "df['restaurant_name'] = df['url'].apply(lambda x: x.split(\"/delivery/\")[1].split(\"/\")[1] if pd.notna(x) else None)\n",
    "df['restaurant_id'] = df['url'].apply(lambda x: x.split(\"/delivery/\")[1].split(\"/\")[2] if pd.notna(x) else None)\n",
    "\n",
    "print(df.head())\n"
   ]
  },
  {
   "cell_type": "code",
   "execution_count": null,
   "metadata": {},
   "outputs": [],
   "source": [
    "df.columns"
   ]
  },
  {
   "cell_type": "code",
   "execution_count": null,
   "metadata": {},
   "outputs": [],
   "source": []
  }
 ],
 "metadata": {
  "kernelspec": {
   "display_name": "Python 3",
   "language": "python",
   "name": "python3"
  },
  "language_info": {
   "codemirror_mode": {
    "name": "ipython",
    "version": 3
   },
   "file_extension": ".py",
   "mimetype": "text/x-python",
   "name": "python",
   "nbconvert_exporter": "python",
   "pygments_lexer": "ipython3",
   "version": "3.12.0"
  }
 },
 "nbformat": 4,
 "nbformat_minor": 2
}
