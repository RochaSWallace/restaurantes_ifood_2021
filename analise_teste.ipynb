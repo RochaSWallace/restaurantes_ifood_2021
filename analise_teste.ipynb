{
 "cells": [
  {
   "cell_type": "code",
   "execution_count": 17,
   "metadata": {},
   "outputs": [],
   "source": [
    "# Projeto de Técnicas de Programação I\n",
    "import pandas as pd"
   ]
  },
  {
   "cell_type": "code",
   "execution_count": 18,
   "metadata": {},
   "outputs": [
    {
     "data": {
      "text/html": [
       "<div>\n",
       "<style scoped>\n",
       "    .dataframe tbody tr th:only-of-type {\n",
       "        vertical-align: middle;\n",
       "    }\n",
       "\n",
       "    .dataframe tbody tr th {\n",
       "        vertical-align: top;\n",
       "    }\n",
       "\n",
       "    .dataframe thead th {\n",
       "        text-align: right;\n",
       "    }\n",
       "</style>\n",
       "<table border=\"1\" class=\"dataframe\">\n",
       "  <thead>\n",
       "    <tr style=\"text-align: right;\">\n",
       "      <th></th>\n",
       "      <th>availableForScheduling</th>\n",
       "      <th>avatar</th>\n",
       "      <th>category</th>\n",
       "      <th>delivery_fee</th>\n",
       "      <th>delivery_time</th>\n",
       "      <th>distance</th>\n",
       "      <th>ibge</th>\n",
       "      <th>minimumOrderValue</th>\n",
       "      <th>name</th>\n",
       "      <th>paymentCodes</th>\n",
       "      <th>price_range</th>\n",
       "      <th>rating</th>\n",
       "      <th>tags</th>\n",
       "      <th>url</th>\n",
       "    </tr>\n",
       "  </thead>\n",
       "  <tbody>\n",
       "    <tr>\n",
       "      <th>0</th>\n",
       "      <td>False</td>\n",
       "      <td>https://static-images.ifood.com.br/image/uploa...</td>\n",
       "      <td>Marmita</td>\n",
       "      <td>3.99</td>\n",
       "      <td>27</td>\n",
       "      <td>1.22</td>\n",
       "      <td>5300108</td>\n",
       "      <td>10.0</td>\n",
       "      <td>Cantina Arte &amp; Sabor</td>\n",
       "      <td>DNR $$ MPAY $$ MOVPAY_MC $$ MC $$ GPY_ELO $$ E...</td>\n",
       "      <td>CHEAPEST</td>\n",
       "      <td>0.0</td>\n",
       "      <td>ADDRESS_PREFORM_TYPE $$ CART::MCHT::100_DELIVE...</td>\n",
       "      <td>https://www.ifood.com.br/delivery/brasilia-df/...</td>\n",
       "    </tr>\n",
       "    <tr>\n",
       "      <th>1</th>\n",
       "      <td>False</td>\n",
       "      <td>https://static-images.ifood.com.br/image/uploa...</td>\n",
       "      <td>Açaí</td>\n",
       "      <td>7.99</td>\n",
       "      <td>61</td>\n",
       "      <td>4.96</td>\n",
       "      <td>5300108</td>\n",
       "      <td>10.0</td>\n",
       "      <td>Raruty Açaí Raiz</td>\n",
       "      <td>DNR $$ MPAY $$ MOVPAY_MC $$ MC $$ GPY_ELO $$ E...</td>\n",
       "      <td>CHEAPEST</td>\n",
       "      <td>0.0</td>\n",
       "      <td>ADDRESS_PREFORM_TYPE $$ GUIDED_HELP_TYPE $$ ME...</td>\n",
       "      <td>https://www.ifood.com.br/delivery/brasilia-df/...</td>\n",
       "    </tr>\n",
       "    <tr>\n",
       "      <th>2</th>\n",
       "      <td>False</td>\n",
       "      <td>https://static-images.ifood.com.br/image/uploa...</td>\n",
       "      <td>Bebidas</td>\n",
       "      <td>11.99</td>\n",
       "      <td>70</td>\n",
       "      <td>8.35</td>\n",
       "      <td>5300108</td>\n",
       "      <td>5.0</td>\n",
       "      <td>Toma na Kombi</td>\n",
       "      <td>DNR $$ MPAY $$ MOVPAY_MC $$ MC $$ GPY_ELO $$ R...</td>\n",
       "      <td>MODERATE</td>\n",
       "      <td>0.0</td>\n",
       "      <td>ADDRESS_PREFORM_TYPE $$ CPGN_USER_DISCOUNT_6_L...</td>\n",
       "      <td>https://www.ifood.com.br/delivery/brasilia-df/...</td>\n",
       "    </tr>\n",
       "    <tr>\n",
       "      <th>3</th>\n",
       "      <td>False</td>\n",
       "      <td>https://static-images.ifood.com.br/image/uploa...</td>\n",
       "      <td>Carnes</td>\n",
       "      <td>16.49</td>\n",
       "      <td>63</td>\n",
       "      <td>6.35</td>\n",
       "      <td>5300108</td>\n",
       "      <td>20.0</td>\n",
       "      <td>Churrasquinho do Barriga´s</td>\n",
       "      <td>DNR $$ MPAY $$ MOVPAY_MC $$ MC $$ GPY_ELO $$ E...</td>\n",
       "      <td>CHEAPEST</td>\n",
       "      <td>0.0</td>\n",
       "      <td>ADDRESS_PREFORM_TYPE $$ GUIDED_HELP_TYPE $$ NO...</td>\n",
       "      <td>https://www.ifood.com.br/delivery/brasilia-df/...</td>\n",
       "    </tr>\n",
       "    <tr>\n",
       "      <th>4</th>\n",
       "      <td>False</td>\n",
       "      <td>https://static-images.ifood.com.br/image/uploa...</td>\n",
       "      <td>Brasileira</td>\n",
       "      <td>11.99</td>\n",
       "      <td>58</td>\n",
       "      <td>5.22</td>\n",
       "      <td>5300108</td>\n",
       "      <td>20.0</td>\n",
       "      <td>Prime Restaurante</td>\n",
       "      <td>DNR $$ MPAY $$ MOVPAY_MC $$ MC $$ GPY_ELO $$ E...</td>\n",
       "      <td>CHEAPEST</td>\n",
       "      <td>0.0</td>\n",
       "      <td>ADDRESS_PREFORM_TYPE $$ GUIDED_HELP_TYPE $$ NOVO</td>\n",
       "      <td>https://www.ifood.com.br/delivery/brasilia-df/...</td>\n",
       "    </tr>\n",
       "  </tbody>\n",
       "</table>\n",
       "</div>"
      ],
      "text/plain": [
       "   availableForScheduling                                             avatar  \\\n",
       "0                   False  https://static-images.ifood.com.br/image/uploa...   \n",
       "1                   False  https://static-images.ifood.com.br/image/uploa...   \n",
       "2                   False  https://static-images.ifood.com.br/image/uploa...   \n",
       "3                   False  https://static-images.ifood.com.br/image/uploa...   \n",
       "4                   False  https://static-images.ifood.com.br/image/uploa...   \n",
       "\n",
       "     category  delivery_fee  delivery_time  distance     ibge  \\\n",
       "0     Marmita          3.99             27      1.22  5300108   \n",
       "1        Açaí          7.99             61      4.96  5300108   \n",
       "2     Bebidas         11.99             70      8.35  5300108   \n",
       "3      Carnes         16.49             63      6.35  5300108   \n",
       "4  Brasileira         11.99             58      5.22  5300108   \n",
       "\n",
       "   minimumOrderValue                        name  \\\n",
       "0               10.0        Cantina Arte & Sabor   \n",
       "1               10.0            Raruty Açaí Raiz   \n",
       "2                5.0               Toma na Kombi   \n",
       "3               20.0  Churrasquinho do Barriga´s   \n",
       "4               20.0           Prime Restaurante   \n",
       "\n",
       "                                        paymentCodes price_range  rating  \\\n",
       "0  DNR $$ MPAY $$ MOVPAY_MC $$ MC $$ GPY_ELO $$ E...    CHEAPEST     0.0   \n",
       "1  DNR $$ MPAY $$ MOVPAY_MC $$ MC $$ GPY_ELO $$ E...    CHEAPEST     0.0   \n",
       "2  DNR $$ MPAY $$ MOVPAY_MC $$ MC $$ GPY_ELO $$ R...    MODERATE     0.0   \n",
       "3  DNR $$ MPAY $$ MOVPAY_MC $$ MC $$ GPY_ELO $$ E...    CHEAPEST     0.0   \n",
       "4  DNR $$ MPAY $$ MOVPAY_MC $$ MC $$ GPY_ELO $$ E...    CHEAPEST     0.0   \n",
       "\n",
       "                                                tags  \\\n",
       "0  ADDRESS_PREFORM_TYPE $$ CART::MCHT::100_DELIVE...   \n",
       "1  ADDRESS_PREFORM_TYPE $$ GUIDED_HELP_TYPE $$ ME...   \n",
       "2  ADDRESS_PREFORM_TYPE $$ CPGN_USER_DISCOUNT_6_L...   \n",
       "3  ADDRESS_PREFORM_TYPE $$ GUIDED_HELP_TYPE $$ NO...   \n",
       "4   ADDRESS_PREFORM_TYPE $$ GUIDED_HELP_TYPE $$ NOVO   \n",
       "\n",
       "                                                 url  \n",
       "0  https://www.ifood.com.br/delivery/brasilia-df/...  \n",
       "1  https://www.ifood.com.br/delivery/brasilia-df/...  \n",
       "2  https://www.ifood.com.br/delivery/brasilia-df/...  \n",
       "3  https://www.ifood.com.br/delivery/brasilia-df/...  \n",
       "4  https://www.ifood.com.br/delivery/brasilia-df/...  "
      ]
     },
     "execution_count": 18,
     "metadata": {},
     "output_type": "execute_result"
    }
   ],
   "source": [
    "# Leitura dos dados\n",
    "df = pd.read_csv('ifood-restaurants-february-2021.csv')\n",
    "df.head()"
   ]
  },
  {
   "cell_type": "code",
   "execution_count": 19,
   "metadata": {},
   "outputs": [
    {
     "data": {
      "text/plain": [
       "Index(['availableForScheduling', 'avatar', 'category', 'delivery_fee',\n",
       "       'delivery_time', 'distance', 'ibge', 'minimumOrderValue', 'name',\n",
       "       'paymentCodes', 'price_range', 'rating', 'tags', 'url'],\n",
       "      dtype='object')"
      ]
     },
     "execution_count": 19,
     "metadata": {},
     "output_type": "execute_result"
    }
   ],
   "source": [
    "# Exibe colunas do DataFrame\n",
    "df.columns"
   ]
  },
  {
   "cell_type": "code",
   "execution_count": 20,
   "metadata": {},
   "outputs": [
    {
     "name": "stdout",
     "output_type": "stream",
     "text": [
      "Cabeçalho: \n",
      "   availableForScheduling                                             avatar  \\\n",
      "0                   False  https://static-images.ifood.com.br/image/uploa...   \n",
      "1                   False  https://static-images.ifood.com.br/image/uploa...   \n",
      "2                   False  https://static-images.ifood.com.br/image/uploa...   \n",
      "3                   False  https://static-images.ifood.com.br/image/uploa...   \n",
      "4                   False  https://static-images.ifood.com.br/image/uploa...   \n",
      "\n",
      "     category  delivery_fee  delivery_time  distance     ibge  \\\n",
      "0     Marmita          3.99             27      1.22  5300108   \n",
      "1        Açaí          7.99             61      4.96  5300108   \n",
      "2     Bebidas         11.99             70      8.35  5300108   \n",
      "3      Carnes         16.49             63      6.35  5300108   \n",
      "4  Brasileira         11.99             58      5.22  5300108   \n",
      "\n",
      "   minimumOrderValue                        name  \\\n",
      "0               10.0        Cantina Arte & Sabor   \n",
      "1               10.0            Raruty Açaí Raiz   \n",
      "2                5.0               Toma na Kombi   \n",
      "3               20.0  Churrasquinho do Barriga´s   \n",
      "4               20.0           Prime Restaurante   \n",
      "\n",
      "                                        paymentCodes price_range  rating  \\\n",
      "0  DNR $$ MPAY $$ MOVPAY_MC $$ MC $$ GPY_ELO $$ E...    CHEAPEST     0.0   \n",
      "1  DNR $$ MPAY $$ MOVPAY_MC $$ MC $$ GPY_ELO $$ E...    CHEAPEST     0.0   \n",
      "2  DNR $$ MPAY $$ MOVPAY_MC $$ MC $$ GPY_ELO $$ R...    MODERATE     0.0   \n",
      "3  DNR $$ MPAY $$ MOVPAY_MC $$ MC $$ GPY_ELO $$ E...    CHEAPEST     0.0   \n",
      "4  DNR $$ MPAY $$ MOVPAY_MC $$ MC $$ GPY_ELO $$ E...    CHEAPEST     0.0   \n",
      "\n",
      "                                                tags  \\\n",
      "0  ADDRESS_PREFORM_TYPE $$ CART::MCHT::100_DELIVE...   \n",
      "1  ADDRESS_PREFORM_TYPE $$ GUIDED_HELP_TYPE $$ ME...   \n",
      "2  ADDRESS_PREFORM_TYPE $$ CPGN_USER_DISCOUNT_6_L...   \n",
      "3  ADDRESS_PREFORM_TYPE $$ GUIDED_HELP_TYPE $$ NO...   \n",
      "4   ADDRESS_PREFORM_TYPE $$ GUIDED_HELP_TYPE $$ NOVO   \n",
      "\n",
      "                                                 url  \n",
      "0  https://www.ifood.com.br/delivery/brasilia-df/...  \n",
      "1  https://www.ifood.com.br/delivery/brasilia-df/...  \n",
      "2  https://www.ifood.com.br/delivery/brasilia-df/...  \n",
      "3  https://www.ifood.com.br/delivery/brasilia-df/...  \n",
      "4  https://www.ifood.com.br/delivery/brasilia-df/...  \n"
     ]
    }
   ],
   "source": [
    "# Exibe cabeçalho do DataFrame\n",
    "print(\"Cabeçalho: \")\n",
    "print(df.head())"
   ]
  },
  {
   "cell_type": "code",
   "execution_count": 21,
   "metadata": {},
   "outputs": [
    {
     "name": "stdout",
     "output_type": "stream",
     "text": [
      "Informações: \n",
      "<class 'pandas.core.frame.DataFrame'>\n",
      "RangeIndex: 406399 entries, 0 to 406398\n",
      "Data columns (total 14 columns):\n",
      " #   Column                  Non-Null Count   Dtype  \n",
      "---  ------                  --------------   -----  \n",
      " 0   availableForScheduling  406399 non-null  bool   \n",
      " 1   avatar                  406122 non-null  object \n",
      " 2   category                406399 non-null  object \n",
      " 3   delivery_fee            406399 non-null  float64\n",
      " 4   delivery_time           406399 non-null  int64  \n",
      " 5   distance                406399 non-null  float64\n",
      " 6   ibge                    406399 non-null  int64  \n",
      " 7   minimumOrderValue       406399 non-null  float64\n",
      " 8   name                    406399 non-null  object \n",
      " 9   paymentCodes            406397 non-null  object \n",
      " 10  price_range             406399 non-null  object \n",
      " 11  rating                  406399 non-null  float64\n",
      " 12  tags                    406399 non-null  object \n",
      " 13  url                     406399 non-null  object \n",
      "dtypes: bool(1), float64(4), int64(2), object(7)\n",
      "memory usage: 40.7+ MB\n",
      "None\n"
     ]
    }
   ],
   "source": [
    "# Informações sobre o DataFrame\n",
    "print(\"Informações: \")\n",
    "print(df.info())"
   ]
  },
  {
   "cell_type": "code",
   "execution_count": 22,
   "metadata": {},
   "outputs": [
    {
     "name": "stdout",
     "output_type": "stream",
     "text": [
      "Descrição Estatística: \n",
      "        delivery_fee  delivery_time       distance          ibge  \\\n",
      "count  406399.000000  406399.000000  406399.000000  4.063990e+05   \n",
      "mean        6.804577      47.432747       4.219752  3.441576e+06   \n",
      "std         4.315815      19.662736      68.329379  7.523711e+05   \n",
      "min         0.000000      -1.000000       0.000000  1.100023e+06   \n",
      "25%         4.000000      35.000000       1.750000  3.143302e+06   \n",
      "50%         6.000000      45.000000       3.080000  3.516408e+06   \n",
      "75%         9.490000      60.000000       4.830000  3.550308e+06   \n",
      "max        35.000000    5050.000000   11810.190000  5.300108e+06   \n",
      "\n",
      "       minimumOrderValue         rating  \n",
      "count       4.063990e+05  406399.000000  \n",
      "mean        2.768909e+02       2.522241  \n",
      "std         1.570668e+05       2.286103  \n",
      "min         0.000000e+00       0.000000  \n",
      "25%         1.000000e+01       0.000000  \n",
      "50%         1.500000e+01       3.958900  \n",
      "75%         2.000000e+01       4.718750  \n",
      "max         1.000000e+08       5.000000  \n"
     ]
    }
   ],
   "source": [
    "# Estatísticas descritivas do DataFrame\n",
    "print(\"Descrição Estatística: \")\n",
    "print(df.describe())"
   ]
  },
  {
   "cell_type": "code",
   "execution_count": 23,
   "metadata": {},
   "outputs": [
    {
     "name": "stdout",
     "output_type": "stream",
     "text": [
      "   availableForScheduling                                             avatar  \\\n",
      "0                   False  https://static-images.ifood.com.br/image/uploa...   \n",
      "1                   False  https://static-images.ifood.com.br/image/uploa...   \n",
      "2                   False  https://static-images.ifood.com.br/image/uploa...   \n",
      "3                   False  https://static-images.ifood.com.br/image/uploa...   \n",
      "4                   False  https://static-images.ifood.com.br/image/uploa...   \n",
      "\n",
      "     category  delivery_fee  delivery_time  distance     ibge  \\\n",
      "0     Marmita          3.99             27         1  5300108   \n",
      "1        Açaí          7.99             61         4  5300108   \n",
      "2     Bebidas         11.99             70         8  5300108   \n",
      "3      Carnes         16.49             63         6  5300108   \n",
      "4  Brasileira         11.99             58         5  5300108   \n",
      "\n",
      "   minimumOrderValue                        name  \\\n",
      "0               10.0        Cantina Arte & Sabor   \n",
      "1               10.0            Raruty Açaí Raiz   \n",
      "2                5.0               Toma na Kombi   \n",
      "3               20.0  Churrasquinho do Barriga´s   \n",
      "4               20.0           Prime Restaurante   \n",
      "\n",
      "                                        paymentCodes price_range  rating  \\\n",
      "0  DNR $$ MPAY $$ MOVPAY_MC $$ MC $$ GPY_ELO $$ E...    CHEAPEST     0.0   \n",
      "1  DNR $$ MPAY $$ MOVPAY_MC $$ MC $$ GPY_ELO $$ E...    CHEAPEST     0.0   \n",
      "2  DNR $$ MPAY $$ MOVPAY_MC $$ MC $$ GPY_ELO $$ R...    MODERATE     0.0   \n",
      "3  DNR $$ MPAY $$ MOVPAY_MC $$ MC $$ GPY_ELO $$ E...    CHEAPEST     0.0   \n",
      "4  DNR $$ MPAY $$ MOVPAY_MC $$ MC $$ GPY_ELO $$ E...    CHEAPEST     0.0   \n",
      "\n",
      "                                                tags  \\\n",
      "0  ADDRESS_PREFORM_TYPE $$ CART::MCHT::100_DELIVE...   \n",
      "1  ADDRESS_PREFORM_TYPE $$ GUIDED_HELP_TYPE $$ ME...   \n",
      "2  ADDRESS_PREFORM_TYPE $$ CPGN_USER_DISCOUNT_6_L...   \n",
      "3  ADDRESS_PREFORM_TYPE $$ GUIDED_HELP_TYPE $$ NO...   \n",
      "4   ADDRESS_PREFORM_TYPE $$ GUIDED_HELP_TYPE $$ NOVO   \n",
      "\n",
      "                                                 url  \n",
      "0  https://www.ifood.com.br/delivery/brasilia-df/...  \n",
      "1  https://www.ifood.com.br/delivery/brasilia-df/...  \n",
      "2  https://www.ifood.com.br/delivery/brasilia-df/...  \n",
      "3  https://www.ifood.com.br/delivery/brasilia-df/...  \n",
      "4  https://www.ifood.com.br/delivery/brasilia-df/...  \n"
     ]
    }
   ],
   "source": [
    "# Transforma variáveis string em números, para que possam ser manipuladas\n",
    "# Float para valores, int para minutos, int para kilômetros\n",
    "\n",
    "df.fillna(0, inplace=True)\n",
    "\n",
    "df['delivery_fee'] = df['delivery_fee'].replace('[\\\\$,]', '', regex=True).astype(float)\n",
    "df['minimumOrderValue'] = df['minimumOrderValue'].replace('[\\\\$,]', '', regex=True).astype(float)\n",
    "\n",
    "df['distance'] = df['distance'].astype(int)\n",
    "df['delivery_time'] = df['delivery_time'].astype(int)\n",
    "\n",
    "# Exibe transformação\n",
    "print(df.head())"
   ]
  },
  {
   "cell_type": "code",
   "execution_count": 24,
   "metadata": {},
   "outputs": [
    {
     "name": "stderr",
     "output_type": "stream",
     "text": [
      "C:\\Users\\osjhe\\AppData\\Local\\Temp\\ipykernel_22716\\3543030341.py:6: FutureWarning: The default of observed=False is deprecated and will be changed to True in a future version of pandas. Pass observed=False to retain current behavior or observed=True to adopt the future default and silence this warning.\n",
      "  mean_rating_by_category = df.groupby('category')['rating'].mean()\n"
     ]
    }
   ],
   "source": [
    "# Normalização de strings e categorização\n",
    "df['category'] = df['category'].astype('category')\n",
    "\n",
    "df['name'] = df['name'].str.lower()\n",
    "\n",
    "mean_rating_by_category = df.groupby('category')['rating'].mean()\n",
    "\n",
    "df.drop_duplicates(inplace=True)"
   ]
  },
  {
   "cell_type": "code",
   "execution_count": 25,
   "metadata": {},
   "outputs": [
    {
     "name": "stdout",
     "output_type": "stream",
     "text": [
      "Category: 0 nulos\n",
      "Name: 0 nulos\n",
      "PaymentCodes: 0 nulos\n",
      "Tags: 0 nulos\n",
      "URL: 0 nulos\n"
     ]
    }
   ],
   "source": [
    "# Soma a quantidade de valores nulos\n",
    "nulos_category = df['category'].isnull().sum()\n",
    "nulos_name = df['name'].isnull().sum()\n",
    "nulos_paymentCodes = df['paymentCodes'].isnull().sum()\n",
    "nulos_tags = df['tags'].isnull().sum()\n",
    "nulos_url = df['url'].isnull().sum()\n",
    "\n",
    "# Imprime a quantidade de valores nulos\n",
    "print(f'Category: {nulos_category} nulos')\n",
    "print(f'Name: {nulos_name} nulos')\n",
    "print(f'PaymentCodes: {nulos_paymentCodes} nulos')\n",
    "print(f'Tags: {nulos_tags} nulos')\n",
    "print(f'URL: {nulos_url} nulos')"
   ]
  },
  {
   "cell_type": "code",
   "execution_count": 26,
   "metadata": {},
   "outputs": [
    {
     "name": "stdout",
     "output_type": "stream",
     "text": [
      "0             brasilia-df\n",
      "1             brasilia-df\n",
      "2             brasilia-df\n",
      "3             brasilia-df\n",
      "4             brasilia-df\n",
      "               ...       \n",
      "406394        gravatai-rs\n",
      "406395    cachoeirinha-rs\n",
      "406396        gravatai-rs\n",
      "406397        gravatai-rs\n",
      "406398    cachoeirinha-rs\n",
      "Name: Cidade_Estado, Length: 406399, dtype: object\n"
     ]
    }
   ],
   "source": [
    "# Confere URL e verifica cidades e estados\n",
    "# Itera sobre todas as linhas do DataFrame\n",
    "# Adiciona informações em um novo DataFrame\n",
    "df['Cidade_Estado'] = ''\n",
    "\n",
    "for index, row in df.iterrows():\n",
    "    url = row['url']\n",
    "    df.at[index, 'Cidade_Estado'] = url[34:].split('/')[0]\n",
    "\n",
    "print(df['Cidade_Estado'])"
   ]
  },
  {
   "cell_type": "code",
   "execution_count": 27,
   "metadata": {},
   "outputs": [
    {
     "name": "stdout",
     "output_type": "stream",
     "text": [
      "   availableForScheduling                                             avatar  \\\n",
      "0                   False  https://static-images.ifood.com.br/image/uploa...   \n",
      "1                   False  https://static-images.ifood.com.br/image/uploa...   \n",
      "2                   False  https://static-images.ifood.com.br/image/uploa...   \n",
      "3                   False  https://static-images.ifood.com.br/image/uploa...   \n",
      "4                   False  https://static-images.ifood.com.br/image/uploa...   \n",
      "\n",
      "     category  delivery_fee  delivery_time  distance     ibge  \\\n",
      "0     Marmita          3.99             27         1  5300108   \n",
      "1        Açaí          7.99             61         4  5300108   \n",
      "2     Bebidas         11.99             70         8  5300108   \n",
      "3      Carnes         16.49             63         6  5300108   \n",
      "4  Brasileira         11.99             58         5  5300108   \n",
      "\n",
      "   minimumOrderValue                        name  \\\n",
      "0               10.0        cantina arte & sabor   \n",
      "1               10.0            raruty açaí raiz   \n",
      "2                5.0               toma na kombi   \n",
      "3               20.0  churrasquinho do barriga´s   \n",
      "4               20.0           prime restaurante   \n",
      "\n",
      "                                        paymentCodes price_range  rating  \\\n",
      "0  DNR $$ MPAY $$ MOVPAY_MC $$ MC $$ GPY_ELO $$ E...    CHEAPEST     0.0   \n",
      "1  DNR $$ MPAY $$ MOVPAY_MC $$ MC $$ GPY_ELO $$ E...    CHEAPEST     0.0   \n",
      "2  DNR $$ MPAY $$ MOVPAY_MC $$ MC $$ GPY_ELO $$ R...    MODERATE     0.0   \n",
      "3  DNR $$ MPAY $$ MOVPAY_MC $$ MC $$ GPY_ELO $$ E...    CHEAPEST     0.0   \n",
      "4  DNR $$ MPAY $$ MOVPAY_MC $$ MC $$ GPY_ELO $$ E...    CHEAPEST     0.0   \n",
      "\n",
      "                                                tags  \\\n",
      "0  ADDRESS_PREFORM_TYPE $$ CART::MCHT::100_DELIVE...   \n",
      "1  ADDRESS_PREFORM_TYPE $$ GUIDED_HELP_TYPE $$ ME...   \n",
      "2  ADDRESS_PREFORM_TYPE $$ CPGN_USER_DISCOUNT_6_L...   \n",
      "3  ADDRESS_PREFORM_TYPE $$ GUIDED_HELP_TYPE $$ NO...   \n",
      "4   ADDRESS_PREFORM_TYPE $$ GUIDED_HELP_TYPE $$ NOVO   \n",
      "\n",
      "                                                 url Cidade_Estado  \\\n",
      "0  https://www.ifood.com.br/delivery/brasilia-df/...   brasilia-df   \n",
      "1  https://www.ifood.com.br/delivery/brasilia-df/...   brasilia-df   \n",
      "2  https://www.ifood.com.br/delivery/brasilia-df/...   brasilia-df   \n",
      "3  https://www.ifood.com.br/delivery/brasilia-df/...   brasilia-df   \n",
      "4  https://www.ifood.com.br/delivery/brasilia-df/...   brasilia-df   \n",
      "\n",
      "                   base_url     location  \\\n",
      "0  https://www.ifood.com.br  brasilia-df   \n",
      "1  https://www.ifood.com.br  brasilia-df   \n",
      "2  https://www.ifood.com.br  brasilia-df   \n",
      "3  https://www.ifood.com.br  brasilia-df   \n",
      "4  https://www.ifood.com.br  brasilia-df   \n",
      "\n",
      "                                     restaurant_name  \\\n",
      "0  cantina-arte--sabor-parque-ferroviario-de-bras...   \n",
      "1                         raruty-acai-raiz-asa-norte   \n",
      "2                           toma-na-kombi-lago-norte   \n",
      "3                  churrasquinho-do-barrigas-asa-sul   \n",
      "4                          prime-restaurante-asa-sul   \n",
      "\n",
      "                          restaurant_id  \n",
      "0  136c9a0c-02fb-4cf6-90b6-c4e89bd43c5b  \n",
      "1  5608d2c8-91b8-4bad-b905-63ed030b5797  \n",
      "2  33bf98af-fbbc-4ea8-9fe6-086f5a2db064  \n",
      "3  10d4b6c4-3481-42f4-a1f6-204acc437db5  \n",
      "4  16e90495-f316-4f64-b5a7-d325f4bc2177  \n"
     ]
    }
   ],
   "source": [
    "# Inserir informações extraídas da URL no DataFrame\n",
    "df['base_url'] = df['url'].apply(lambda x: x.split(\"/delivery/\")[0] if pd.notna(x) else None)\n",
    "df['location'] = df['url'].apply(lambda x: x.split(\"/delivery/\")[1].split(\"/\")[0] if pd.notna(x) else None)\n",
    "df['restaurant_name'] = df['url'].apply(lambda x: x.split(\"/delivery/\")[1].split(\"/\")[1] if pd.notna(x) else None)\n",
    "df['restaurant_id'] = df['url'].apply(lambda x: x.split(\"/delivery/\")[1].split(\"/\")[2] if pd.notna(x) else None)\n",
    "\n",
    "print(df.head())"
   ]
  },
  {
   "cell_type": "code",
   "execution_count": 28,
   "metadata": {},
   "outputs": [
    {
     "data": {
      "text/plain": [
       "Index(['availableForScheduling', 'avatar', 'category', 'delivery_fee',\n",
       "       'delivery_time', 'distance', 'ibge', 'minimumOrderValue', 'name',\n",
       "       'paymentCodes', 'price_range', 'rating', 'tags', 'url', 'Cidade_Estado',\n",
       "       'base_url', 'location', 'restaurant_name', 'restaurant_id'],\n",
       "      dtype='object')"
      ]
     },
     "execution_count": 28,
     "metadata": {},
     "output_type": "execute_result"
    }
   ],
   "source": [
    "df.columns"
   ]
  }
 ],
 "metadata": {
  "kernelspec": {
   "display_name": "Python 3",
   "language": "python",
   "name": "python3"
  },
  "language_info": {
   "codemirror_mode": {
    "name": "ipython",
    "version": 3
   },
   "file_extension": ".py",
   "mimetype": "text/x-python",
   "name": "python",
   "nbconvert_exporter": "python",
   "pygments_lexer": "ipython3",
   "version": "3.12.0"
  }
 },
 "nbformat": 4,
 "nbformat_minor": 2
}
